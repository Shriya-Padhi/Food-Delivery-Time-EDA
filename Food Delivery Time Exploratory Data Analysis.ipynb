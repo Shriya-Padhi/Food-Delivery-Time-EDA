{
 "cells": [
  {
   "cell_type": "markdown",
   "id": "af45e85b",
   "metadata": {},
   "source": [
    "### Food Delivery Time Exploratory Data Analysis  \n",
    "- Data visualization helps in presenting billions of data points into meaningful insights. \n",
    "- It is a very important tool for all data scientists to learn and understand the data in more detail.\n",
    "-  Visualization also helps business leaders to take important decisions for company growth and to move in the right direction.We often order food from food delivery apps like Swiggy. \n",
    "- Data: 11095 rows x 9 columns\n",
    "- Columns: Restaurants (unique ID,Minimum order, Rating, Votes, Reviews, Delivery time.\n",
    "- Our main focus is on delivery time based sentiment analysis.\n",
    "- Link: https://www.kaggle.com/ankitkalauni/the-food-delivery-time-for-different-cuisines"
   ]
  },
  {
   "cell_type": "markdown",
   "id": "c98ff192",
   "metadata": {},
   "source": [
    "#### 1. Import header files, load dataset and display few records."
   ]
  },
  {
   "cell_type": "code",
   "execution_count": 141,
   "id": "9b786534",
   "metadata": {},
   "outputs": [],
   "source": [
    "library(tidyverse)\n",
    "library(reshape2)\n",
    "library(ggplot2)\n",
    "library(caTools)\n",
    "library(Metrics)\n",
    "library(randomForest)"
   ]
  },
  {
   "cell_type": "code",
   "execution_count": 142,
   "id": "3d308707",
   "metadata": {},
   "outputs": [],
   "source": [
    "data <- read.csv(file ='Data_Train.csv')"
   ]
  },
  {
   "cell_type": "code",
   "execution_count": 143,
   "id": "9be99208",
   "metadata": {},
   "outputs": [
    {
     "data": {
      "text/html": [
       "<table>\n",
       "<thead><tr><th scope=col>Restaurant</th><th scope=col>Location</th><th scope=col>Cuisines</th><th scope=col>Average_Cost</th><th scope=col>Minimum_Order</th><th scope=col>Rating</th><th scope=col>Votes</th><th scope=col>Reviews</th><th scope=col>Delivery_Time</th></tr></thead>\n",
       "<tbody>\n",
       "\t<tr><td>ID_6321                               </td><td>FTI College, Law College Road, Pune   </td><td>Fast Food, Rolls, Burger, Salad, Wraps</td><td>200                                   </td><td>50                                    </td><td>3.5                                   </td><td> 12                                   </td><td>  4                                   </td><td>30                                    </td></tr>\n",
       "\t<tr><td>ID_2882                               </td><td>Sector 3, Marathalli                  </td><td>Ice Cream, Desserts                   </td><td>100                                   </td><td>50                                    </td><td>3.5                                   </td><td> 11                                   </td><td>  4                                   </td><td>30                                    </td></tr>\n",
       "\t<tr><td>ID_1595                               </td><td>Mumbai Central                        </td><td>Italian, Street Food, Fast Food       </td><td>150                                   </td><td>50                                    </td><td>3.6                                   </td><td> 99                                   </td><td> 30                                   </td><td>65                                    </td></tr>\n",
       "\t<tr><td>ID_5929                               </td><td>Sector 1, Noida                       </td><td>Mughlai, North Indian, Chinese        </td><td>250                                   </td><td>99                                    </td><td>3.7                                   </td><td>176                                   </td><td> 95                                   </td><td>30                                    </td></tr>\n",
       "\t<tr><td>ID_6123                               </td><td>Rmz Centennial, I Gate, Whitefield    </td><td>Cafe, Beverages                       </td><td>200                                   </td><td>99                                    </td><td>3.2                                   </td><td>521                                   </td><td>235                                   </td><td>65                                    </td></tr>\n",
       "\t<tr><td>ID_5221                               </td><td>Rmz Centennial, I Gate, Whitefield    </td><td>South Indian, North Indian, Chinese   </td><td>150                                   </td><td>50                                    </td><td>3.8                                   </td><td> 46                                   </td><td> 18                                   </td><td>30                                    </td></tr>\n",
       "</tbody>\n",
       "</table>\n"
      ],
      "text/latex": [
       "\\begin{tabular}{r|lllllllll}\n",
       " Restaurant & Location & Cuisines & Average\\_Cost & Minimum\\_Order & Rating & Votes & Reviews & Delivery\\_Time\\\\\n",
       "\\hline\n",
       "\t ID\\_6321                              & FTI College, Law College Road, Pune    & Fast Food, Rolls, Burger, Salad, Wraps & 200                                    & 50                                     & 3.5                                    &  12                                    &   4                                    & 30                                    \\\\\n",
       "\t ID\\_2882                              & Sector 3, Marathalli                   & Ice Cream, Desserts                    & 100                                    & 50                                     & 3.5                                    &  11                                    &   4                                    & 30                                    \\\\\n",
       "\t ID\\_1595                              & Mumbai Central                         & Italian, Street Food, Fast Food        & 150                                    & 50                                     & 3.6                                    &  99                                    &  30                                    & 65                                    \\\\\n",
       "\t ID\\_5929                              & Sector 1, Noida                        & Mughlai, North Indian, Chinese         & 250                                    & 99                                     & 3.7                                    & 176                                    &  95                                    & 30                                    \\\\\n",
       "\t ID\\_6123                              & Rmz Centennial, I Gate, Whitefield     & Cafe, Beverages                        & 200                                    & 99                                     & 3.2                                    & 521                                    & 235                                    & 65                                    \\\\\n",
       "\t ID\\_5221                              & Rmz Centennial, I Gate, Whitefield     & South Indian, North Indian, Chinese    & 150                                    & 50                                     & 3.8                                    &  46                                    &  18                                    & 30                                    \\\\\n",
       "\\end{tabular}\n"
      ],
      "text/markdown": [
       "\n",
       "| Restaurant | Location | Cuisines | Average_Cost | Minimum_Order | Rating | Votes | Reviews | Delivery_Time |\n",
       "|---|---|---|---|---|---|---|---|---|\n",
       "| ID_6321                                | FTI College, Law College Road, Pune    | Fast Food, Rolls, Burger, Salad, Wraps | 200                                    | 50                                     | 3.5                                    |  12                                    |   4                                    | 30                                     |\n",
       "| ID_2882                                | Sector 3, Marathalli                   | Ice Cream, Desserts                    | 100                                    | 50                                     | 3.5                                    |  11                                    |   4                                    | 30                                     |\n",
       "| ID_1595                                | Mumbai Central                         | Italian, Street Food, Fast Food        | 150                                    | 50                                     | 3.6                                    |  99                                    |  30                                    | 65                                     |\n",
       "| ID_5929                                | Sector 1, Noida                        | Mughlai, North Indian, Chinese         | 250                                    | 99                                     | 3.7                                    | 176                                    |  95                                    | 30                                     |\n",
       "| ID_6123                                | Rmz Centennial, I Gate, Whitefield     | Cafe, Beverages                        | 200                                    | 99                                     | 3.2                                    | 521                                    | 235                                    | 65                                     |\n",
       "| ID_5221                                | Rmz Centennial, I Gate, Whitefield     | South Indian, North Indian, Chinese    | 150                                    | 50                                     | 3.8                                    |  46                                    |  18                                    | 30                                     |\n",
       "\n"
      ],
      "text/plain": [
       "  Restaurant Location                           \n",
       "1 ID_6321    FTI College, Law College Road, Pune\n",
       "2 ID_2882    Sector 3, Marathalli               \n",
       "3 ID_1595    Mumbai Central                     \n",
       "4 ID_5929    Sector 1, Noida                    \n",
       "5 ID_6123    Rmz Centennial, I Gate, Whitefield \n",
       "6 ID_5221    Rmz Centennial, I Gate, Whitefield \n",
       "  Cuisines                               Average_Cost Minimum_Order Rating\n",
       "1 Fast Food, Rolls, Burger, Salad, Wraps 200          50            3.5   \n",
       "2 Ice Cream, Desserts                    100          50            3.5   \n",
       "3 Italian, Street Food, Fast Food        150          50            3.6   \n",
       "4 Mughlai, North Indian, Chinese         250          99            3.7   \n",
       "5 Cafe, Beverages                        200          99            3.2   \n",
       "6 South Indian, North Indian, Chinese    150          50            3.8   \n",
       "  Votes Reviews Delivery_Time\n",
       "1  12     4     30           \n",
       "2  11     4     30           \n",
       "3  99    30     65           \n",
       "4 176    95     30           \n",
       "5 521   235     65           \n",
       "6  46    18     30           "
      ]
     },
     "metadata": {},
     "output_type": "display_data"
    }
   ],
   "source": [
    "head(data)"
   ]
  },
  {
   "cell_type": "markdown",
   "id": "33f45c9e",
   "metadata": {},
   "source": [
    "Each restaurant has its unique id. Its location, cuisines offered, average cost charged and delivery time is provided here. \n",
    "Along with this, the minimum order count, ratings, count of votes and reviews is also displayed."
   ]
  },
  {
   "cell_type": "code",
   "execution_count": 144,
   "id": "40bfa3d0",
   "metadata": {},
   "outputs": [
    {
     "data": {
      "text/plain": [
       "   Restaurant                                                Location   \n",
       " ID_7184:   22   Mico Layout, Stage 2, BTM Layout,Bangalore      : 947  \n",
       " ID_4625:   20   D Block, Sector 63, Noida                       : 806  \n",
       " ID_7295:   20   Sector 1, Noida                                 : 791  \n",
       " ID_5321:   19   FTI College, Law College Road, Pune             : 584  \n",
       " ID_5538:   19   Delhi University GTB Nagar                      : 545  \n",
       " ID_2483:   18   Laxman Vihar Industrial Area, Sector 3A, Gurgoan: 493  \n",
       " (Other):10976   (Other)                                         :6928  \n",
       "                  Cuisines     Average_Cost  Minimum_Order        Rating     \n",
       " North Indian         : 850   200    :3241   Min.   :  0.00   Min.   :2.100  \n",
       " North Indian, Chinese: 614   100    :2557   1st Qu.: 50.00   1st Qu.:3.300  \n",
       " Fast Food            : 434   150    :2462   Median : 50.00   Median :3.600  \n",
       " South Indian         : 270   250    : 881   Mean   : 53.34   Mean   :3.614  \n",
       " Chinese              : 245   300    : 537   3rd Qu.: 50.00   3rd Qu.:3.900  \n",
       " Street Food          : 181   350    : 283   Max.   :500.00   Max.   :4.900  \n",
       " (Other)              :8500   (Other):1133                    NA's   :1963   \n",
       "     Votes           Reviews       Delivery_Time   \n",
       " Min.   :   3.0   Min.   :   1.0   Min.   : 10.00  \n",
       " 1st Qu.:  19.0   1st Qu.:   7.0   1st Qu.: 30.00  \n",
       " Median :  63.0   Median :  26.0   Median : 30.00  \n",
       " Mean   : 244.5   Mean   : 123.2   Mean   : 37.06  \n",
       " 3rd Qu.: 216.0   3rd Qu.:  91.0   3rd Qu.: 45.00  \n",
       " Max.   :9054.0   Max.   :6504.0   Max.   :120.00  \n",
       " NA's   :2074     NA's   :2312                     "
      ]
     },
     "metadata": {},
     "output_type": "display_data"
    }
   ],
   "source": [
    "summary(data)"
   ]
  },
  {
   "cell_type": "markdown",
   "id": "602a1f45",
   "metadata": {},
   "source": [
    "Statistics of the data is provided using the summary() function.\n",
    "This includes calculation of mean, median, mode, quartiles, minimum value, maximum value, count, etc. \n",
    "Eg: North Indian cuisine is quite popular.  Range of delivery time: 10 min-120 min."
   ]
  },
  {
   "cell_type": "markdown",
   "id": "99c17e93",
   "metadata": {},
   "source": [
    "#### 2. EDA"
   ]
  },
  {
   "cell_type": "code",
   "execution_count": 157,
   "id": "95017a35",
   "metadata": {},
   "outputs": [
    {
     "data": {
      "image/png": "[encoded data removed]",
      "text/plain": [
       "plot without title"
      ]
     },
     "metadata": {},
     "output_type": "display_data"
    }
   ],
   "source": [
    "plot(data$Delivery_Time,data$Rating)"
   ]
  },
  {
   "cell_type": "markdown",
   "id": "8dad4e6d",
   "metadata": {},
   "source": [
    "Findings: Orders delivered between 30 minutes and 70 minutes received a wide range of ratings. As a result, in this time slot delivery time is not the deciding factor for determining ratings.\n",
    "Orders delivered between first 20 minutes received ratings in the range of 3.5-4.0. Thus, quick delivery time does receive a relatively good remarks from customers.\n",
    "Orders delivered in 80 minutes got ratings in the range 3 to 4.5. This shows can there can few instances where in people are patient enough to \n",
    "vote for the orders and give good ratings but not excellent at all.\n",
    "Orders delivered in 120 minutes also received a wide range of responses. However unlike 30-70 minutes slot, they did not receive full ratings."
   ]
  },
  {
   "cell_type": "code",
   "execution_count": 158,
   "id": "b5bdc7bb",
   "metadata": {},
   "outputs": [
    {
     "data": {
      "image/png": "[encoded data removed]",
      "text/plain": [
       "Plot with title \"Histogram of data$Delivery_Time\""
      ]
     },
     "metadata": {},
     "output_type": "display_data"
    }
   ],
   "source": [
    "hist(data$Delivery_Time, col=\"orange\", ylim=c(0,1000))"
   ]
  },
  {
   "cell_type": "markdown",
   "id": "a6ddb49c",
   "metadata": {},
   "source": [
    "Findings: Most of the orders were delivered in the range 20-30 minutes and 40-50 minutes.\n",
    "The next most popular time slot was 60 minutes to 70 minutes.\n",
    "Delivery time of less than 20 minutes and 70-80 minutes was least frequent.\n",
    "Some of the orders were also delivered in the time frame 110-120 minutes."
   ]
  },
  {
   "cell_type": "markdown",
   "id": "c28a8be5",
   "metadata": {},
   "source": [
    "#### 3. Preprocessing"
   ]
  },
  {
   "cell_type": "code",
   "execution_count": 145,
   "id": "1d479e9e",
   "metadata": {},
   "outputs": [],
   "source": [
    "data$Votes = ifelse(is.na(data$Votes),\n",
    "                     ave(data$Votes, FUN = function(x) mean(x, na.rm = TRUE)),\n",
    "                     data$Votes)"
   ]
  },
  {
   "cell_type": "code",
   "execution_count": 146,
   "id": "45a78d2c",
   "metadata": {},
   "outputs": [],
   "source": [
    "data$Reviews = ifelse(is.na(data$Reviews),\n",
    "                     ave(data$Reviews, FUN = function(x) mean(x, na.rm = TRUE)),\n",
    "                     data$Reviews)"
   ]
  },
  {
   "cell_type": "code",
   "execution_count": 147,
   "id": "73ee0c0a",
   "metadata": {},
   "outputs": [],
   "source": [
    "data$Rating = ifelse(is.na(data$Rating),\n",
    "                     ave(data$Rating, FUN = function(x) mean(x, na.rm = TRUE)),\n",
    "                     data$Rating)"
   ]
  },
  {
   "cell_type": "markdown",
   "id": "d7a5ae61",
   "metadata": {},
   "source": [
    "Votes, Reviews and Rating have missing values which can affect the quality of analysis and hence handling it is necessary.\n",
    "So, we have replaced the null/missing values in a particular field with the mean of the values belonging to that field."
   ]
  },
  {
   "cell_type": "code",
   "execution_count": 148,
   "id": "54377af8",
   "metadata": {},
   "outputs": [],
   "source": [
    "data = subset(data, select = -c(Restaurant,Location,Cuisines,Average_Cost) )"
   ]
  },
  {
   "cell_type": "markdown",
   "id": "ab196ff2",
   "metadata": {},
   "source": [
    "We are only concerned with integer values for further analysis.\n",
    "Thus, we have eliminated rows Restaurant, Location, Cuisines and Average_Cost for the time being.\n",
    "Some of the records for the remaining fields have been displayed here."
   ]
  },
  {
   "cell_type": "code",
   "execution_count": 149,
   "id": "dff0f118",
   "metadata": {},
   "outputs": [
    {
     "data": {
      "text/html": [
       "<table>\n",
       "<thead><tr><th scope=col>Minimum_Order</th><th scope=col>Rating</th><th scope=col>Votes</th><th scope=col>Reviews</th><th scope=col>Delivery_Time</th></tr></thead>\n",
       "<tbody>\n",
       "\t<tr><td>50 </td><td>3.5</td><td> 12</td><td>  4</td><td>30 </td></tr>\n",
       "\t<tr><td>50 </td><td>3.5</td><td> 11</td><td>  4</td><td>30 </td></tr>\n",
       "\t<tr><td>50 </td><td>3.6</td><td> 99</td><td> 30</td><td>65 </td></tr>\n",
       "\t<tr><td>99 </td><td>3.7</td><td>176</td><td> 95</td><td>30 </td></tr>\n",
       "\t<tr><td>99 </td><td>3.2</td><td>521</td><td>235</td><td>65 </td></tr>\n",
       "\t<tr><td>50 </td><td>3.8</td><td> 46</td><td> 18</td><td>30 </td></tr>\n",
       "</tbody>\n",
       "</table>\n"
      ],
      "text/latex": [
       "\\begin{tabular}{r|lllll}\n",
       " Minimum\\_Order & Rating & Votes & Reviews & Delivery\\_Time\\\\\n",
       "\\hline\n",
       "\t 50  & 3.5 &  12 &   4 & 30 \\\\\n",
       "\t 50  & 3.5 &  11 &   4 & 30 \\\\\n",
       "\t 50  & 3.6 &  99 &  30 & 65 \\\\\n",
       "\t 99  & 3.7 & 176 &  95 & 30 \\\\\n",
       "\t 99  & 3.2 & 521 & 235 & 65 \\\\\n",
       "\t 50  & 3.8 &  46 &  18 & 30 \\\\\n",
       "\\end{tabular}\n"
      ],
      "text/markdown": [
       "\n",
       "| Minimum_Order | Rating | Votes | Reviews | Delivery_Time |\n",
       "|---|---|---|---|---|\n",
       "| 50  | 3.5 |  12 |   4 | 30  |\n",
       "| 50  | 3.5 |  11 |   4 | 30  |\n",
       "| 50  | 3.6 |  99 |  30 | 65  |\n",
       "| 99  | 3.7 | 176 |  95 | 30  |\n",
       "| 99  | 3.2 | 521 | 235 | 65  |\n",
       "| 50  | 3.8 |  46 |  18 | 30  |\n",
       "\n"
      ],
      "text/plain": [
       "  Minimum_Order Rating Votes Reviews Delivery_Time\n",
       "1 50            3.5     12     4     30           \n",
       "2 50            3.5     11     4     30           \n",
       "3 50            3.6     99    30     65           \n",
       "4 99            3.7    176    95     30           \n",
       "5 99            3.2    521   235     65           \n",
       "6 50            3.8     46    18     30           "
      ]
     },
     "metadata": {},
     "output_type": "display_data"
    }
   ],
   "source": [
    "head(data)"
   ]
  },
  {
   "cell_type": "code",
   "execution_count": 150,
   "id": "fc145e1d",
   "metadata": {},
   "outputs": [
    {
     "data": {
      "text/plain": [
       " Minimum_Order        Rating          Votes           Reviews      \n",
       " Min.   :  0.00   Min.   :2.100   Min.   :   3.0   Min.   :   1.0  \n",
       " 1st Qu.: 50.00   1st Qu.:3.400   1st Qu.:  26.0   1st Qu.:  11.0  \n",
       " Median : 50.00   Median :3.613   Median : 106.0   Median :  48.0  \n",
       " Mean   : 53.34   Mean   :3.613   Mean   : 244.5   Mean   : 123.2  \n",
       " 3rd Qu.: 50.00   3rd Qu.:3.800   3rd Qu.: 244.5   3rd Qu.: 123.2  \n",
       " Max.   :500.00   Max.   :4.900   Max.   :9054.0   Max.   :6504.0  \n",
       " Delivery_Time   \n",
       " Min.   : 10.00  \n",
       " 1st Qu.: 30.00  \n",
       " Median : 30.00  \n",
       " Mean   : 37.06  \n",
       " 3rd Qu.: 45.00  \n",
       " Max.   :120.00  "
      ]
     },
     "metadata": {},
     "output_type": "display_data"
    }
   ],
   "source": [
    "summary(data)"
   ]
  },
  {
   "cell_type": "markdown",
   "id": "5e0c571b",
   "metadata": {},
   "source": [
    "Thus, we have eliminated all the missing values.\n",
    "The measure of veracity of the analysis will increase because of this step.\n",
    "Thus, the data has been successfully pre-processed and can be used as an input for EDA.\n",
    "Minimum rating is 2.1 and maximum is 4.9. Average count of votes for rating purposes is 244.5. Maximum reviews on a restaurant is 6504 reviews."
   ]
  },
  {
   "cell_type": "markdown",
   "id": "0d7ee530",
   "metadata": {},
   "source": [
    "#### 4. Model Training"
   ]
  },
  {
   "cell_type": "markdown",
   "id": "c7623901",
   "metadata": {},
   "source": [
    "Random Forest Regression is a supervised learning algorithm that uses ensemble learning method for regression.\n",
    "The fundamental idea behind a random forest is to combine many decision trees into a single model. \n",
    "Individually, predictions made by decision trees (or humans) may not be accurate, but combined together, the predictions will be closer to the mark on average."
   ]
  },
  {
   "cell_type": "markdown",
   "id": "3a620388",
   "metadata": {},
   "source": [
    "The set. seed() function sets the starting number used to generate a sequence of random numbers – it ensures that you get the same result if you start with that same seed each time you run the same process.\n",
    "We then split the sample into training and test set. First 75 percent of the dataset goes for training and the remaining is used for testing.\n",
    " By centering values, the scale() function subtracts the values of every column by the corresponding 'center' value from the argument only if the value\n",
    "provided is numeric. This is a part of feature scaling.\n",
    "‘randomForest’ implements random forest algorithm for classification and regression. It can also be used in unsupervised mode for assessing proximities among data points.\n",
    "The predict() function in R is used to predict the values based on the input data. We use test set here.\n",
    "The rmse() function available in Metrics package in R is used to calculate root mean square error between actual values and predicted values. \n",
    "The RMSE value is quite less here."
   ]
  },
  {
   "cell_type": "code",
   "execution_count": 151,
   "id": "858e7bbb",
   "metadata": {},
   "outputs": [],
   "source": [
    "set.seed(123)\n",
    "split = sample.split(data$Delivery_Time, SplitRatio = 0.75)\n",
    "training_set = subset(data, split == TRUE)\n",
    "test_set = subset(data, split == FALSE)"
   ]
  },
  {
   "cell_type": "code",
   "execution_count": 153,
   "id": "b576613e",
   "metadata": {},
   "outputs": [],
   "source": [
    "#Feature Scaling\n",
    "training = scale(training_set[-5])\n",
    "test = scale(test_set[-5])"
   ]
  },
  {
   "cell_type": "code",
   "execution_count": 154,
   "id": "c0f2848e",
   "metadata": {},
   "outputs": [],
   "source": [
    "classifier_rf = randomForest(x = training,\n",
    "                          y = training_set$Delivery_Time,\n",
    "                          ntree = 500, random_state = 0)"
   ]
  },
  {
   "cell_type": "code",
   "execution_count": 169,
   "id": "0fa163fc",
   "metadata": {},
   "outputs": [
    {
     "data": {
      "image/png": "[encoded data removed]",
      "text/plain": [
       "Plot with title \"classifier_rf\""
      ]
     },
     "metadata": {},
     "output_type": "display_data"
    }
   ],
   "source": [
    "plot(classifier_rf)"
   ]
  },
  {
   "cell_type": "markdown",
   "id": "bd05078e",
   "metadata": {},
   "source": [
    "This plot is for the classifier.\n",
    "It maps the internal error metrics with respect to the number of decision trees.\n",
    "As we start splitting the decision trees using random forest algorithm, the count of trees increases.\n",
    "As this happens, it is observed that the error decreases.\n",
    "This reinstates the whole ‘idea’ of using random forest technique.\n",
    "Individually, predictions made by decision trees (or humans) may not be accurate, but combined together, the predictions will be closer to the mark on average."
   ]
  },
  {
   "cell_type": "code",
   "execution_count": 155,
   "id": "23254eed",
   "metadata": {},
   "outputs": [],
   "source": [
    "pred_rf = predict(classifier_rf, newdata = test)"
   ]
  },
  {
   "cell_type": "code",
   "execution_count": 156,
   "id": "d3b78bbb",
   "metadata": {},
   "outputs": [
    {
     "data": {
      "text/html": [
       "11.5760641688293"
      ],
      "text/latex": [
       "11.5760641688293"
      ],
      "text/markdown": [
       "11.5760641688293"
      ],
      "text/plain": [
       "[1] 11.57606"
      ]
     },
     "metadata": {},
     "output_type": "display_data"
    }
   ],
   "source": [
    "rmse(test_set$Delivery_Time, pred_rf)"
   ]
  },
  {
   "cell_type": "markdown",
   "id": "92aa7504",
   "metadata": {},
   "source": [
    "We handled missing values to increase quality of our analysis.\n",
    "About the random forest algorithm- Aim is to combine many decision trees into a single model.\n",
    "Combined predicted is more accurate than individual ones which is reinstated using low RMSE value (11.576).\n",
    "Our prediction- For best results, the company should ensure that delivery should be done between 30 to 70 minutes to ensure optimum services are provided to the customer. "
   ]
  },
  {
   "cell_type": "code",
   "execution_count": null,
   "id": "da467c5b",
   "metadata": {},
   "outputs": [],
   "source": []
  }
 ],
 "metadata": {
  "kernelspec": {
   "display_name": "R",
   "language": "R",
   "name": "ir"
  },
  "language_info": {
   "codemirror_mode": "r",
   "file_extension": ".r",
   "mimetype": "text/x-r-source",
   "name": "R",
   "pygments_lexer": "r",
   "version": "3.6.1"
  }
 },
 "nbformat": 4,
 "nbformat_minor": 5
}
